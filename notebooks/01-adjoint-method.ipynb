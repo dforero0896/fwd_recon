{
 "cells": [
  {
   "cell_type": "code",
   "execution_count": 2,
   "id": "af348770-14b0-4091-b7ad-60cace8ce69f",
   "metadata": {},
   "outputs": [],
   "source": [
    "import sympy\n",
    "sympy.init_printing(use_latex='mathjax', use_unicode=True)\n",
    "from IPython.display import Math"
   ]
  },
  {
   "cell_type": "code",
   "execution_count": 42,
   "id": "85d9ae4c-9fe9-4d1b-baee-d59dd64355fe",
   "metadata": {},
   "outputs": [
    {
     "data": {
      "text/latex": [
       "$\\displaystyle \\gamma{\\left(a{\\left(t \\right)} \\right)}$"
      ],
      "text/plain": [
       "γ(a(t))"
      ]
     },
     "execution_count": 42,
     "metadata": {},
     "output_type": "execute_result"
    }
   ],
   "source": [
    "a, m, t = sympy.symbols('a m t', positive=True, real=True)\n",
    "theta = sympy.symbols('theta', real=True)\n",
    "a = sympy.Function('a')(t)\n",
    "x = sympy.Function('x')(a, theta)\n",
    "p = sympy.Function('p')(a, theta)\n",
    "f = sympy.Function('f')(a, x)\n",
    "j = sympy.Function('j')(x, p, theta, a)\n",
    "E = sympy.Function('E')(a)\n",
    "J = sympy.integrate(j, a)\n",
    "lamda = sympy.Function('lambda')(a)\n",
    "gamma = sympy.Function('gamma')(a)\n",
    "gamma"
   ]
  },
  {
   "cell_type": "code",
   "execution_count": 43,
   "id": "7e8c9c81-f564-433e-b385-55b8d3a91a92",
   "metadata": {},
   "outputs": [
    {
     "data": {
      "text/latex": [
       "$\\displaystyle - a{\\left(t \\right)} \\frac{d}{d t} a{\\left(t \\right)} \\frac{\\partial^{2}}{\\partial a{\\left(t \\right)}\\partial \\theta} p{\\left(a{\\left(t \\right)},\\theta \\right)} + \\frac{\\partial}{\\partial x{\\left(a{\\left(t \\right)},\\theta \\right)}} f{\\left(a{\\left(t \\right)},x{\\left(a{\\left(t \\right)},\\theta \\right)} \\right)} \\frac{\\partial}{\\partial \\theta} x{\\left(a{\\left(t \\right)},\\theta \\right)}$"
      ],
      "text/plain": [
       "                    2                                                         \n",
       "       d           ∂                        ∂                           ∂     \n",
       "- a(t)⋅──(a(t))⋅────────(p(a(t), θ)) + ───────────(f(a(t), x(a(t), θ)))⋅──(x(a\n",
       "       dt       ∂a(t) ∂θ               ∂x(a(t), θ)                      ∂θ    \n",
       "\n",
       "        \n",
       "        \n",
       "(t), θ))\n",
       "        "
      ]
     },
     "execution_count": 43,
     "metadata": {},
     "output_type": "execute_result"
    }
   ],
   "source": [
    "pos_eq = p - a**2*sympy.diff(x, t)\n",
    "mom_eq = f - a * sympy.diff(p, t)\n",
    "dpos_eq = sympy.diff(pos_eq, theta)\n",
    "dmom_eq = sympy.diff(mom_eq, theta)\n",
    "dmom_eq"
   ]
  },
  {
   "cell_type": "code",
   "execution_count": 44,
   "id": "ad3e5c50-3880-4ff7-8849-6a00950c12b6",
   "metadata": {},
   "outputs": [
    {
     "name": "stdout",
     "output_type": "stream",
     "text": [
      "  ⎛                  2                                                        \n",
      "  ⎜         2       ∂                        ∂                           ∂    \n",
      "- ⎜E(a(t))⋅a (t)⋅────────(p(a(t), θ)) - ───────────(f(a(t), x(a(t), θ)))⋅──(x(\n",
      "  ⎝              ∂a(t) ∂θ               ∂x(a(t), θ)                      ∂θ   \n",
      "\n",
      "         ⎞           ⎛                  2                                ⎞    \n",
      "         ⎟           ⎜         3       ∂                   ∂             ⎟    \n",
      "a(t), θ))⎟⋅γ(a(t)) - ⎜E(a(t))⋅a (t)⋅────────(x(a(t), θ)) - ──(p(a(t), θ))⎟⋅λ(a\n",
      "         ⎠           ⎝              ∂a(t) ∂θ               ∂θ            ⎠    \n",
      "\n",
      "                                                                              \n",
      "            ∂                                          ∂                     ∂\n",
      "(t)) + ───────────(j(x(a(t), θ), p(a(t), θ), θ, a(t)))⋅──(p(a(t), θ)) + ──────\n",
      "       ∂p(a(t), θ)                                     ∂θ               ∂x(a(t\n",
      "\n",
      "                                                                              \n",
      "                                          ∂                ⎛ ∂                \n",
      "─────(j(x(a(t), θ), p(a(t), θ), θ, a(t)))⋅──(x(a(t), θ)) + ⎜───(j(x(a(t), θ), \n",
      "), θ)                                     ∂θ               ⎝∂ξ₃               \n",
      "\n",
      "                            \n",
      "                      ⎞│    \n",
      "p(a(t), θ), ξ₃, a(t)))⎟│    \n",
      "                      ⎠│ξ₃=θ\n"
     ]
    }
   ],
   "source": [
    "integrand = j + lamda * pos_eq + gamma * mom_eq\n",
    "dintegrand = sympy.diff(integrand, theta)\n",
    "\n",
    "sympy.pprint(sympy.simplify(dintegrand.subs(sympy.diff(a,t), a*E)),use_unicode=True)"
   ]
  },
  {
   "cell_type": "code",
   "execution_count": 45,
   "id": "9b561657-536a-4551-b729-1a734bf38f0e",
   "metadata": {},
   "outputs": [
    {
     "name": "stdout",
     "output_type": "stream",
     "text": [
      "     d          d            ∂                             ∂                  \n",
      "a(t)⋅──(a(t))⋅─────(γ(a(t)))⋅──(p(a(t), θ)) + γ(a(t))⋅───────────(f(a(t), x(a(\n",
      "     dt       da(t)          ∂θ                       ∂x(a(t), θ)             \n",
      "\n",
      "         ∂             \n",
      "t), θ)))⋅──(x(a(t), θ))\n",
      "         ∂θ            \n"
     ]
    }
   ],
   "source": [
    "dpos_by_parts = (lamda*dpos_eq).expand().subs(-lamda*sympy.diff(x, t, theta), sympy.diff(lamda, t)*sympy.diff(x, theta))\n",
    "dmom_by_parts = (gamma*dmom_eq).expand().subs(-gamma*sympy.diff(p, t, theta), sympy.diff(gamma, t)*sympy.diff(p, theta))\n",
    "sympy.pprint(dmom_by_parts)"
   ]
  },
  {
   "cell_type": "code",
   "execution_count": 52,
   "id": "53536c3d-3642-4f3e-b0d6-4f198bbe5c58",
   "metadata": {},
   "outputs": [
    {
     "name": "stdout",
     "output_type": "stream",
     "text": [
      "Backward equation for lambda\n",
      "         3      d                           ∂                                 \n",
      "E(a(t))⋅a (t)⋅─────(λ(a(t))) + γ(a(t))⋅───────────(f(a(t), x(a(t), θ))) + ────\n",
      "              da(t)                    ∂x(a(t), θ)                        ∂x(a\n",
      "\n",
      " ∂                                         \n",
      "───────(j(x(a(t), θ), p(a(t), θ), θ, a(t)))\n",
      "(t), θ)                                    \n",
      "Backward equation for gamma\n",
      "         2      d                             ∂                               \n",
      "E(a(t))⋅a (t)⋅─────(γ(a(t))) + λ(a(t)) + ───────────(j(x(a(t), θ), p(a(t), θ),\n",
      "              da(t)                      ∂p(a(t), θ)                          \n",
      "\n",
      "          \n",
      " θ, a(t)))\n",
      "          \n",
      "Remaining terms in integral over t\n",
      "     d                  d             ⎛ ∂                                     \n",
      "γ(0)⋅──(p(0, θ)) + λ(0)⋅──(x(0, θ)) + ⎜───(j(x(a(t), θ), p(a(t), θ), ξ₃, a(t))\n",
      "     dθ                 dθ            ⎝∂ξ₃                                    \n",
      "\n",
      " ⎞│    \n",
      ")⎟│    \n",
      " ⎠│ξ₃=θ\n"
     ]
    }
   ],
   "source": [
    "dintegrand_parts = (sympy.diff(j, theta) + dpos_by_parts + dmom_by_parts).expand().subs(sympy.diff(a, t), a*E)\n",
    "x_bkwd_term = dintegrand_parts.collect(sympy.diff(x, theta)).coeff(sympy.diff(x, theta), 1)\n",
    "p_bkwd_term = dintegrand_parts.collect(sympy.diff(p, theta)).coeff(sympy.diff(p, theta), 1)\n",
    "remain_bkwd_term = dintegrand_parts.collect(sympy.diff(x, theta)).coeff(sympy.diff(x, theta), 0).collect(sympy.diff(p, theta)).coeff(sympy.diff(p, theta), 0)\n",
    "print(\"Backward equation for lambda\")\n",
    "sympy.pprint(x_bkwd_term)\n",
    "print(\"Backward equation for gamma\")\n",
    "sympy.pprint(p_bkwd_term)\n",
    "print(\"Remaining terms in integral over t\")\n",
    "remain_bkwd_term += (lamda * sympy.diff(x, theta)).subs(a,0)\n",
    "remain_bkwd_term += (gamma * sympy.diff(p, theta)).subs(a,0)\n",
    "sympy.pprint(remain_bkwd_term)"
   ]
  },
  {
   "cell_type": "code",
   "execution_count": 81,
   "id": "9e0726de-1749-41e0-873e-fb1cd401be22",
   "metadata": {},
   "outputs": [
    {
     "name": "stdout",
     "output_type": "stream",
     "text": [
      "γ₀(a(t))\n",
      " ⎛         3                    ∂                                         ⎞ \n",
      "-⎜E(a(t))⋅a (t)⋅γ₀(a(t)) + ───────────(j(x(a(t), θ), p(a(t), θ), θ, a(t)))⎟ \n",
      " ⎝                         ∂x(a(t), θ)                                    ⎠ \n",
      "────────────────────────────────────────────────────────────────────────────\n",
      "                           ∂                                                \n",
      "                      ───────────(f(a(t), x(a(t), θ)))                      \n",
      "                      ∂x(a(t), θ)                                           \n",
      "           3                        3      d           \n",
      "- E(a(t))⋅a (t)⋅γ₀(a(t)) + E(a(t))⋅a (t)⋅─────(λ(a(t)))\n",
      "                                         da(t)         \n",
      " ⎛                                2                                           \n",
      " ⎜   2        5                  ∂                              ∂             \n",
      "-⎜- E (a(t))⋅a (t)⋅γ₀(a(t))⋅────────────(f(a(t), x(a(t), θ)))⋅─────(x(a(t), θ)\n",
      " ⎜                                     2                      ∂a(t)           \n",
      " ⎝                          ∂x(a(t), θ)                                       \n",
      "──────────────────────────────────────────────────────────────────────────────\n",
      "                                                                              \n",
      "                                                                              \n",
      "                                                                              \n",
      "                                                                              \n",
      "\n",
      "                            ⎛    2               ⎞│                           \n",
      "     2        5             ⎜   ∂                ⎟│                2        5 \n",
      ") - E (a(t))⋅a (t)⋅γ₀(a(t))⋅⎜────────(f(a(t), ξ))⎟│             + E (a(t))⋅a (\n",
      "                            ⎝∂a(t) ∂ξ            ⎠│ξ=x(a(t), θ)               \n",
      "                                                                              \n",
      "──────────────────────────────────────────────────────────────────────────────\n",
      "                                                                              \n",
      "                                                                              \n",
      "                                                                              \n",
      "                                                                              \n",
      "\n",
      "                                                                              \n",
      "        ∂                             d                  2        4           \n",
      "t)⋅───────────(f(a(t), x(a(t), θ)))⋅─────(γ₀(a(t))) + 3⋅E (a(t))⋅a (t)⋅γ₀(a(t)\n",
      "   ∂x(a(t), θ)                      da(t)                                     \n",
      "                                                                              \n",
      "──────────────────────────────────────────────────────────────────────────────\n",
      "                                                                              \n",
      "                                                                              \n",
      "                                                                              \n",
      "                                                                              \n",
      "\n",
      "                                                                              \n",
      "       ∂                                      5               d               \n",
      ")⋅───────────(f(a(t), x(a(t), θ))) + E(a(t))⋅a (t)⋅γ₀(a(t))⋅─────(E(a(t)))⋅───\n",
      "  ∂x(a(t), θ)                                               da(t)          ∂x(\n",
      "                                                                              \n",
      "──────────────────────────────────────────────────────────────────────────────\n",
      "                                                                              \n",
      "                                                                              \n",
      "                                                                              \n",
      "                                                                              \n",
      "\n",
      "                                                                              \n",
      "  ∂                                      2         ∂                          \n",
      "────────(f(a(t), x(a(t), θ))) + E(a(t))⋅a (t)⋅───────────(f(a(t), x(a(t), θ)))\n",
      "a(t), θ)                                      ∂x(a(t), θ)                     \n",
      "                                                                              \n",
      "──────────────────────────────────────────────────────────────────────────────\n",
      "                                                                              \n",
      "                                                                              \n",
      "                                                                              \n",
      "                                                                              \n",
      "\n",
      "       2                                                                      \n",
      "      ∂                                             ∂                         \n",
      "⋅────────────(j(x(a(t), θ), p(a(t), θ), θ, a(t)))⋅─────(x(a(t), θ)) + E(a(t))⋅\n",
      "            2                                     ∂a(t)                       \n",
      " ∂x(a(t), θ)                                                                  \n",
      "──────────────────────────────────────────────────────────────────────────────\n",
      "                                                                              \n",
      "                                                                              \n",
      "                                                                              \n",
      "                                                                              \n",
      "\n",
      "                                                                     2        \n",
      " 2         ∂                             ∂                          ∂         \n",
      "a (t)⋅───────────(f(a(t), x(a(t), θ)))⋅─────(p(a(t), θ))⋅─────────────────────\n",
      "      ∂x(a(t), θ)                      ∂a(t)             ∂x(a(t), θ) ∂p(a(t), \n",
      "                                                                              \n",
      "──────────────────────────────────────────────────────────────────────────────\n",
      "                                                                      2       \n",
      "                                    ⎛     ∂                          ⎞        \n",
      "                                    ⎜───────────(f(a(t), x(a(t), θ)))⎟        \n",
      "                                    ⎝∂x(a(t), θ)                     ⎠        \n",
      "\n",
      "                                                                              \n",
      "                                                  2         ∂                 \n",
      "──(j(x(a(t), θ), p(a(t), θ), θ, a(t))) + E(a(t))⋅a (t)⋅───────────(f(a(t), x(a\n",
      "θ)                                                     ∂x(a(t), θ)            \n",
      "                                                                              \n",
      "──────────────────────────────────────────────────────────────────────────────\n",
      "                                                                              \n",
      "                                                                              \n",
      "                                                                              \n",
      "                                                                              \n",
      "\n",
      "          ⎛        2                                        ⎞│                \n",
      "          ⎜       ∂                                         ⎟│                \n",
      "(t), θ)))⋅⎜───────────────(j(x(a(t), θ), p(a(t), θ), θ, ξ₄))⎟│        - E(a(t)\n",
      "          ⎝∂x(a(t), θ) ∂ξ₄                                  ⎠│ξ₄=a(t)         \n",
      "                                                                              \n",
      "──────────────────────────────────────────────────────────────────────────────\n",
      "                                                                              \n",
      "                                                                              \n",
      "                                                                              \n",
      "                                                                              \n",
      "\n",
      "              2                                                               \n",
      "   2         ∂                                 ∂                              \n",
      ")⋅a (t)⋅────────────(f(a(t), x(a(t), θ)))⋅───────────(j(x(a(t), θ), p(a(t), θ)\n",
      "                   2                      ∂x(a(t), θ)                         \n",
      "        ∂x(a(t), θ)                                                           \n",
      "──────────────────────────────────────────────────────────────────────────────\n",
      "                                                                              \n",
      "                                                                              \n",
      "                                                                              \n",
      "                                                                              \n",
      "\n",
      "                                                                              \n",
      "              ∂                          2         ∂                          \n",
      ", θ, a(t)))⋅─────(x(a(t), θ)) - E(a(t))⋅a (t)⋅───────────(j(x(a(t), θ), p(a(t)\n",
      "            ∂a(t)                             ∂x(a(t), θ)                     \n",
      "                                                                              \n",
      "──────────────────────────────────────────────────────────────────────────────\n",
      "                                                                              \n",
      "                                                                              \n",
      "                                                                              \n",
      "                                                                              \n",
      "\n",
      "                ⎛    2               ⎞│                                       \n",
      "                ⎜   ∂                ⎟│                       ⎛     ∂         \n",
      ", θ), θ, a(t)))⋅⎜────────(f(a(t), ξ))⎟│             - λ(a(t))⋅⎜───────────(f(a\n",
      "                ⎝∂a(t) ∂ξ            ⎠│ξ=x(a(t), θ)           ⎝∂x(a(t), θ)    \n",
      "                                                                              \n",
      "──────────────────────────────────────────────────────────────────────────────\n",
      "                                                                              \n",
      "                                                                              \n",
      "                                                                              \n",
      "                                                                              \n",
      "\n",
      "                  2                                     2                     \n",
      "                 ⎞    ⎛     ∂                          ⎞       ∂              \n",
      "(t), x(a(t), θ)))⎟  - ⎜───────────(f(a(t), x(a(t), θ)))⎟ ⋅───────────(j(x(a(t)\n",
      "                 ⎠    ⎝∂x(a(t), θ)                     ⎠  ∂p(a(t), θ)         \n",
      "                                                                              \n",
      "──────────────────────────────────────────────────────────────────────────────\n",
      "                                                                              \n",
      "                                                                              \n",
      "                                                                              \n",
      "                                                                              \n",
      "\n",
      "                           ⎞ \n",
      "                           ⎟ \n",
      ", θ), p(a(t), θ), θ, a(t)))⎟ \n",
      "                           ⎟ \n",
      "                           ⎠ \n",
      "─────────────────────────────\n",
      "                             \n",
      "                             \n",
      "                             \n",
      "                             \n"
     ]
    }
   ],
   "source": [
    "gamma_p = sympy.Function(\"gamma_0\")(a)\n",
    "gamma_p_expr = (-gamma/(E*a**3)*sympy.diff(f, x) - 1/(E*a**3) * sympy.diff(j, x)).expand()\n",
    "sympy.pprint(gamma_p)\n",
    "gamma_of_gp = sympy.solve(gamma_p - gamma_p_expr, gamma)[0]\n",
    "sympy.pprint(gamma_of_gp)\n",
    "sympy.pprint(x_bkwd_term.subs(gamma, gamma_of_gp).expand().cancel())\n",
    "sympy.pprint(p_bkwd_term.subs(gamma, gamma_of_gp).expand().simplify().factor())"
   ]
  },
  {
   "cell_type": "code",
   "execution_count": null,
   "id": "917548e5-5608-4f21-83b1-ffc5f4195422",
   "metadata": {},
   "outputs": [],
   "source": []
  }
 ],
 "metadata": {
  "kernelspec": {
   "display_name": "nbk-env",
   "language": "python",
   "name": "nbk-env"
  },
  "language_info": {
   "codemirror_mode": {
    "name": "ipython",
    "version": 3
   },
   "file_extension": ".py",
   "mimetype": "text/x-python",
   "name": "python",
   "nbconvert_exporter": "python",
   "pygments_lexer": "ipython3",
   "version": "3.8.5"
  }
 },
 "nbformat": 4,
 "nbformat_minor": 5
}
