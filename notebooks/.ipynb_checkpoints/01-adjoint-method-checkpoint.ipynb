{
 "cells": [
  {
   "cell_type": "code",
   "execution_count": 2,
   "id": "af348770-14b0-4091-b7ad-60cace8ce69f",
   "metadata": {},
   "outputs": [],
   "source": [
    "import sympy\n",
    "sympy.init_printing(use_latex='mathjax', use_unicode=True)\n",
    "from IPython.display import Math"
   ]
  },
  {
   "cell_type": "code",
   "execution_count": 3,
   "id": "85d9ae4c-9fe9-4d1b-baee-d59dd64355fe",
   "metadata": {},
   "outputs": [
    {
     "data": {
      "text/latex": [
       "$\\displaystyle \\gamma{\\left(a{\\left(t \\right)} \\right)}$"
      ],
      "text/plain": [
       "γ(a(t))"
      ]
     },
     "execution_count": 3,
     "metadata": {},
     "output_type": "execute_result"
    }
   ],
   "source": [
    "a, m, t = sympy.symbols('a m t', positive=True, real=True)\n",
    "theta = sympy.symbols('theta', real=True)\n",
    "a = sympy.Function('a')(t)\n",
    "x = sympy.Function('x')(a, theta)\n",
    "p = sympy.Function('p')(a, theta)\n",
    "f = sympy.Function('f')(a, theta, x)\n",
    "j = sympy.Function('j')(x, p, theta, a)\n",
    "E = sympy.Function('E')(a)\n",
    "J = sympy.integrate(j, a)\n",
    "lamda = sympy.Function('lambda')(a)\n",
    "gamma = sympy.Function('gamma')(a)\n",
    "gamma"
   ]
  },
  {
   "cell_type": "code",
   "execution_count": 4,
   "id": "7e8c9c81-f564-433e-b385-55b8d3a91a92",
   "metadata": {},
   "outputs": [
    {
     "data": {
      "text/latex": [
       "$\\displaystyle - a{\\left(t \\right)} \\frac{d}{d t} a{\\left(t \\right)} \\frac{\\partial^{2}}{\\partial a{\\left(t \\right)}\\partial \\theta} p{\\left(a{\\left(t \\right)},\\theta \\right)} + \\frac{\\partial}{\\partial x{\\left(a{\\left(t \\right)},\\theta \\right)}} f{\\left(a{\\left(t \\right)},\\theta,x{\\left(a{\\left(t \\right)},\\theta \\right)} \\right)} \\frac{\\partial}{\\partial \\theta} x{\\left(a{\\left(t \\right)},\\theta \\right)} + \\left. \\frac{\\partial}{\\partial \\xi_{2}} f{\\left(a{\\left(t \\right)},\\xi_{2},x{\\left(a{\\left(t \\right)},\\theta \\right)} \\right)} \\right|_{\\substack{ \\xi_{2}=\\theta }}$"
      ],
      "text/plain": [
       "                    2                                                         \n",
       "       d           ∂                        ∂                              ∂  \n",
       "- a(t)⋅──(a(t))⋅────────(p(a(t), θ)) + ───────────(f(a(t), θ, x(a(t), θ)))⋅──(\n",
       "       dt       ∂a(t) ∂θ               ∂x(a(t), θ)                         ∂θ \n",
       "\n",
       "                                                 \n",
       "              ⎛ ∂                          ⎞│    \n",
       "x(a(t), θ)) + ⎜───(f(a(t), ξ₂, x(a(t), θ)))⎟│    \n",
       "              ⎝∂ξ₂                         ⎠│ξ₂=θ"
      ]
     },
     "execution_count": 4,
     "metadata": {},
     "output_type": "execute_result"
    }
   ],
   "source": [
    "pos_eq = p - a**2*sympy.diff(x, t)\n",
    "mom_eq = f - a * sympy.diff(p, t)\n",
    "dpos_eq = sympy.diff(pos_eq, theta)\n",
    "dmom_eq = sympy.diff(mom_eq, theta)\n",
    "dmom_eq"
   ]
  },
  {
   "cell_type": "code",
   "execution_count": 14,
   "id": "ad3e5c50-3880-4ff7-8849-6a00950c12b6",
   "metadata": {},
   "outputs": [
    {
     "name": "stdout",
     "output_type": "stream",
     "text": [
      "  ⎛                  2                                ⎞           ⎛           \n",
      "  ⎜         3       ∂                   ∂             ⎟           ⎜           \n",
      "- ⎜E(a(t))⋅a (t)⋅────────(x(a(t), θ)) - ──(p(a(t), θ))⎟⋅λ(a(t)) + ⎜- E(a(t))⋅a\n",
      "  ⎝              ∂a(t) ∂θ               ∂θ            ⎠           ⎝           \n",
      "\n",
      "         2                                                                    \n",
      "2       ∂                        ∂                              ∂             \n",
      " (t)⋅────────(p(a(t), θ)) + ───────────(f(a(t), θ, x(a(t), θ)))⋅──(x(a(t), θ))\n",
      "     ∂a(t) ∂θ               ∂x(a(t), θ)                         ∂θ            \n",
      "\n",
      "                                      ⎞                                       \n",
      "   ⎛ ∂                          ⎞│    ⎟                ∂                      \n",
      " + ⎜───(f(a(t), ξ₂, x(a(t), θ)))⎟│    ⎟⋅γ(a(t)) + ───────────(j(x(a(t), θ), p(\n",
      "   ⎝∂ξ₂                         ⎠│ξ₂=θ⎠           ∂p(a(t), θ)                 \n",
      "\n",
      "                                                                              \n",
      "                    ∂                     ∂                                   \n",
      "a(t), θ), θ, a(t)))⋅──(p(a(t), θ)) + ───────────(j(x(a(t), θ), p(a(t), θ), θ, \n",
      "                    ∂θ               ∂x(a(t), θ)                              \n",
      "\n",
      "                                                                       \n",
      "       ∂                ⎛ ∂                                      ⎞│    \n",
      "a(t)))⋅──(x(a(t), θ)) + ⎜───(j(x(a(t), θ), p(a(t), θ), ξ₃, a(t)))⎟│    \n",
      "       ∂θ               ⎝∂ξ₃                                     ⎠│ξ₃=θ\n"
     ]
    }
   ],
   "source": [
    "integrand = j + lamda * pos_eq + gamma * mom_eq\n",
    "dintegrand = sympy.diff(integrand, theta)\n",
    "\n",
    "sympy.pprint(sympy.simplify(dintegrand.subs(sympy.diff(a,t), a*E)),use_unicode=True)"
   ]
  },
  {
   "cell_type": "code",
   "execution_count": 25,
   "id": "9b561657-536a-4551-b729-1a734bf38f0e",
   "metadata": {},
   "outputs": [
    {
     "name": "stdout",
     "output_type": "stream",
     "text": [
      "     d          d            ∂                             ∂                  \n",
      "a(t)⋅──(a(t))⋅─────(γ(a(t)))⋅──(p(a(t), θ)) + γ(a(t))⋅───────────(f(a(t), θ, x\n",
      "     dt       da(t)          ∂θ                       ∂x(a(t), θ)             \n",
      "\n",
      "            ∂                        ⎛ ∂                          ⎞│    \n",
      "(a(t), θ)))⋅──(x(a(t), θ)) + γ(a(t))⋅⎜───(f(a(t), ξ₂, x(a(t), θ)))⎟│    \n",
      "            ∂θ                       ⎝∂ξ₂                         ⎠│ξ₂=θ\n"
     ]
    }
   ],
   "source": [
    "dpos_by_parts = (lamda*dpos_eq).expand().subs(-lamda*sympy.diff(x, t, theta), sympy.diff(lamda, t)*sympy.diff(x, theta))\n",
    "dmom_by_parts = (gamma*dmom_eq).expand().subs(-gamma*sympy.diff(p, t, theta), sympy.diff(gamma, t)*sympy.diff(p, theta))\n",
    "sympy.pprint(dmom_by_parts)"
   ]
  },
  {
   "cell_type": "code",
   "execution_count": 28,
   "id": "53536c3d-3642-4f3e-b0d6-4f198bbe5c58",
   "metadata": {},
   "outputs": [
    {
     "name": "stdout",
     "output_type": "stream",
     "text": [
      "         3      d            ∂                         2      d            ∂  \n",
      "E(a(t))⋅a (t)⋅─────(λ(a(t)))⋅──(x(a(t), θ)) + E(a(t))⋅a (t)⋅─────(γ(a(t)))⋅──(\n",
      "              da(t)          ∂θ                             da(t)          ∂θ \n",
      "\n",
      "                           ∂                              ∂                   \n",
      "p(a(t), θ)) + γ(a(t))⋅───────────(f(a(t), θ, x(a(t), θ)))⋅──(x(a(t), θ)) + γ(a\n",
      "                      ∂x(a(t), θ)                         ∂θ                  \n",
      "\n",
      "     ⎛ ∂                          ⎞│               ∂                     ∂    \n",
      "(t))⋅⎜───(f(a(t), ξ₂, x(a(t), θ)))⎟│     + λ(a(t))⋅──(p(a(t), θ)) + ──────────\n",
      "     ⎝∂ξ₂                         ⎠│ξ₂=θ           ∂θ               ∂p(a(t), θ\n",
      "\n",
      "                                      ∂                     ∂                 \n",
      "─(j(x(a(t), θ), p(a(t), θ), θ, a(t)))⋅──(p(a(t), θ)) + ───────────(j(x(a(t), θ\n",
      ")                                     ∂θ               ∂x(a(t), θ)            \n",
      "\n",
      "                         ∂                ⎛ ∂                                 \n",
      "), p(a(t), θ), θ, a(t)))⋅──(x(a(t), θ)) + ⎜───(j(x(a(t), θ), p(a(t), θ), ξ₃, a\n",
      "                         ∂θ               ⎝∂ξ₃                                \n",
      "\n",
      "     ⎞│    \n",
      "(t)))⎟│    \n",
      "     ⎠│ξ₃=θ\n"
     ]
    }
   ],
   "source": [
    "sympy.pprint((sympy.diff(j, theta) + dpos_by_parts + dmom_by_parts).subs(sympy.diff(a, t), a*E).expand())"
   ]
  },
  {
   "cell_type": "code",
   "execution_count": null,
   "id": "9e0726de-1749-41e0-873e-fb1cd401be22",
   "metadata": {},
   "outputs": [],
   "source": []
  }
 ],
 "metadata": {
  "kernelspec": {
   "display_name": "nbk-env",
   "language": "python",
   "name": "nbk-env"
  },
  "language_info": {
   "codemirror_mode": {
    "name": "ipython",
    "version": 3
   },
   "file_extension": ".py",
   "mimetype": "text/x-python",
   "name": "python",
   "nbconvert_exporter": "python",
   "pygments_lexer": "ipython3",
   "version": "3.8.5"
  }
 },
 "nbformat": 4,
 "nbformat_minor": 5
}
